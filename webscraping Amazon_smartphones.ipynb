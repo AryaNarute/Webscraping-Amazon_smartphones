{
 "cells": [
  {
   "cell_type": "markdown",
   "id": "cbac0ae0-b9d7-42fa-b6c9-ddf4a6ccb8be",
   "metadata": {},
   "source": [
    "### WebScraping Amazon_Smartphones "
   ]
  },
  {
   "cell_type": "markdown",
   "id": "7307208a-bffa-456b-8135-ebda04921daf",
   "metadata": {},
   "source": [
    "<img src=\"https://images.indianexpress.com/2019/03/amazon-prime-bloomberg-759-1.jpg\">"
   ]
  },
  {
   "cell_type": "code",
   "execution_count": 64,
   "id": "08eeae1d-267e-4ae4-b668-c70a6cf0ebc3",
   "metadata": {},
   "outputs": [],
   "source": [
    "import requests\n",
    "from bs4 import BeautifulSoup\n",
    "import pandas as pd"
   ]
  },
  {
   "cell_type": "code",
   "execution_count": 3,
   "id": "cf070eea-8ba5-4eb0-b60a-f9c6647c571b",
   "metadata": {},
   "outputs": [],
   "source": [
    "headers = {\"User-Agent\": \"Mozilla/5.0 (Windows NT 10.0; Win64; x64) AppleWebKit/537.36 (KHTML, like Gecko) Chrome/125.0.0.0 Safari/537.36\"}\n",
    "resp = requests.get(\"https://www.amazon.in/smartphones-under-20000/s?k=smartphones+under+20000\", headers=headers)\n",
    "#resp.status_code"
   ]
  },
  {
   "cell_type": "code",
   "execution_count": 4,
   "id": "2623b38a-61b8-4ac7-a05b-861c8d52c8dc",
   "metadata": {},
   "outputs": [],
   "source": [
    "soup = BeautifulSoup(resp.content, \"html.parser\")"
   ]
  },
  {
   "cell_type": "code",
   "execution_count": 5,
   "id": "4be2320a-1d50-483a-adad-bb3d99c561ee",
   "metadata": {},
   "outputs": [],
   "source": [
    "#print(soup)"
   ]
  },
  {
   "cell_type": "code",
   "execution_count": 6,
   "id": "49603bf8-1cfe-49fc-8263-d4fd0df4e361",
   "metadata": {},
   "outputs": [],
   "source": [
    "mob_prices = soup.findAll (\"span\", class_ = \"a-price-whole\")\n",
    "#print(mob_prices)\n"
   ]
  },
  {
   "cell_type": "code",
   "execution_count": 7,
   "id": "861ce917-2482-47c7-b37a-9db7bc901bfe",
   "metadata": {},
   "outputs": [
    {
     "name": "stdout",
     "output_type": "stream",
     "text": [
      "#1 16,139\n",
      "#2 19,999\n",
      "#3 19,999\n",
      "#4 19,310\n",
      "#5 18,999\n",
      "#6 19,499\n",
      "#7 15,999\n",
      "#8 13,999\n",
      "#9 11,999\n",
      "#10 19,999\n",
      "#11 12,390\n",
      "#12 18,999\n",
      "#13 17,300\n",
      "#14 16,099\n",
      "#15 17,999\n",
      "#16 19,999\n"
     ]
    },
    {
     "data": {
      "text/plain": [
       "16"
      ]
     },
     "execution_count": 7,
     "metadata": {},
     "output_type": "execute_result"
    }
   ],
   "source": [
    "mob_prices_list = [l.text for l in mob_prices]\n",
    "\n",
    "i=1\n",
    "for mp in mob_prices_list:\n",
    "    print(f\"#{i} {mp}\")\n",
    "    i+= 1\n",
    "len(mob_prices_list)"
   ]
  },
  {
   "cell_type": "code",
   "execution_count": 8,
   "id": "5106e10f-c3e5-4043-abee-07d27fb3d087",
   "metadata": {},
   "outputs": [],
   "source": [
    "mob_descriptions = soup.findAll(\"h2\", class_ = \"a-size-mini a-spacing-none a-color-base s-line-clamp-2\")\n",
    "#print(mob_descriptions)"
   ]
  },
  {
   "cell_type": "code",
   "execution_count": 9,
   "id": "3bfa5957-7634-463e-b558-380924f4d492",
   "metadata": {},
   "outputs": [
    {
     "name": "stdout",
     "output_type": "stream",
     "text": [
      "#1\n",
      "realme 12 5G (Woodland Green, 8GB RAM 128 GB Storage) | 108 MP 3X Zoom Portrait Camera | Trendy Watch Design | 45 W SUPERVOOC Charge | 5000 mAh Massive Battery | Dual Stereo Speakers | Dynamic Button  \n",
      "\n",
      "#2\n",
      "OnePlus Nord CE4 Lite 5G (Super Silver, 8GB RAM, 128GB Storage)  \n",
      "\n",
      "#3\n",
      "POCO X6 5G (Snowstorm White, 12 GB RAM 256 GB Storage)  \n",
      "\n",
      "#4\n",
      "OnePlus Nord CE 3 Lite 5G (Chromatic Gray, 8GB RAM, 256GB Storage)  \n",
      "\n",
      "#5\n",
      "OnePlus Nord CE 3 5G (Aqua Surge, 8GB RAM, 128GB Storage)  \n",
      "\n",
      "#6\n",
      "Samsung Galaxy A15 5G (Blue, 8GB, 128GB Storage) | 50 MP Main Camera | Android 14 with One UI 6.0 | 16GB Expandable RAM | MediaTek Dimensity 6100+ | 5000 mAh Battery  \n",
      "\n",
      "#7\n",
      "Samsung Galaxy M15 5G (Stone Grey,8GB RAM,128GB Storage)| 50MP Triple Cam| 6000mAh Battery| MediaTek Dimensity 6100+| 4 Gen. OS Upgrade & 5 Year Security Update| Super AMOLED Display| without Charger  \n",
      "\n",
      "#8\n",
      "Redmi 12 5G Jade Black 8GB RAM 256GB ROM  \n",
      "\n",
      "#9\n",
      "Redmi 13C 5G (Startrail Green,6GB RAM, 128GB Storage) | MediaTek Dimensity 6100+ 5G | 90Hz Display  \n",
      "\n",
      "#10\n",
      "iQOO Z9 5G (Graphene Blue, 8GB RAM, 128GB Storage) | Dimensity 7200 5G Processor | Sony IMX882 OIS Camera | 120Hz AMOLED with 1800 nits Local Peak Brightness | 44W Charger in The Box  \n",
      "\n",
      "#11\n",
      "Motorola G34 5G (Charcoal Black, 8GB RAM, 128GB Storage)  \n",
      "\n",
      "#12\n",
      "Redmi Note 13 5G (Arctic White, 8GB RAM, 256GB Storage) | 5G Ready | 120Hz Bezel-less AMOLED | 7.mm Slimmest Note Ever | 108MP Pro-grade Camera  \n",
      "\n",
      "#13\n",
      "Motorola G64 5G (Ice Lilac, 12GB RAM, 256GB Storage) | Expandable Upto 2TB | Upto 24GB RAM with RAM Boost | 50MP (OIS) + 8MP | 16MP Front Camera | MediaTek Dimensity 7025 Processor | 6000 mAh Battery  \n",
      "\n",
      "#14\n",
      "Samsung Galaxy F34 5G (Mistic Green, 8 GB RAM, 128 GB Storage) | 50 MP No Shake Camera | Auto Night Mode | 120 Hz AMOLED Display | 4K Videos | 6000 mAh Large Battery | Dolby Atmos | Gorilla Glass 5  \n",
      "\n",
      "#15\n",
      "realme narzo 60 5G (Mars Orange,8GB+128GB) 90Hz Super AMOLED Display | Ultra Premium Vegan Leather Design | with 33W SUPERVOOC charger  \n",
      "\n",
      "#16\n",
      "OnePlus Nord CE4 Lite 5G (Mega Blue, 8GB RAM, 128GB Storage)  \n",
      "\n"
     ]
    },
    {
     "data": {
      "text/plain": [
       "16"
      ]
     },
     "execution_count": 9,
     "metadata": {},
     "output_type": "execute_result"
    }
   ],
   "source": [
    "mob_descriptions_list = [l.text for l in mob_descriptions]\n",
    "i = 1\n",
    "for md in mob_descriptions_list:\n",
    "    print(f\"#{i}\\n{md}\\n\")\n",
    "    i += 1\n",
    "len(mob_descriptions_list )"
   ]
  },
  {
   "cell_type": "code",
   "execution_count": 10,
   "id": "d753cee1-425e-4862-b7e3-eaca2ac91a22",
   "metadata": {},
   "outputs": [
    {
     "name": "stdout",
     "output_type": "stream",
     "text": [
      "['realme', 'OnePlus', 'POCO', 'OnePlus', 'OnePlus', 'Samsung', 'Samsung', 'Redmi', 'Redmi', 'iQOO', 'Motorola', 'Redmi', 'Motorola', 'Samsung', 'realme', 'OnePlus']\n"
     ]
    },
    {
     "data": {
      "text/plain": [
       "16"
      ]
     },
     "execution_count": 10,
     "metadata": {},
     "output_type": "execute_result"
    }
   ],
   "source": [
    "mob_company_list = [ mob_desc.split(\" \")[0] for mob_desc in mob_descriptions_list]\n",
    "print(mob_company_list)\n",
    "len(mob_company_list)"
   ]
  },
  {
   "cell_type": "code",
   "execution_count": 23,
   "id": "3b95eb9f-5214-4f05-8e18-c4f5d91a3d49",
   "metadata": {},
   "outputs": [],
   "source": [
    "mob_ratings = soup.findAll(\"span\", class_=\"a-icon-alt\")\n",
    "#print(mob_ratings)"
   ]
  },
  {
   "cell_type": "code",
   "execution_count": 24,
   "id": "933ea21d-7d20-4f6e-92d6-6dc00e96e049",
   "metadata": {},
   "outputs": [
    {
     "name": "stdout",
     "output_type": "stream",
     "text": [
      "#1 4.6 out of 5 stars.\n",
      "#2 4.2 out of 5 stars\n",
      "#3 4.0 out of 5 stars\n",
      "#4 4.2 out of 5 stars\n",
      "#5 4.2 out of 5 stars\n",
      "#6 3.7 out of 5 stars\n",
      "#7 3.6 out of 5 stars\n",
      "#8 3.9 out of 5 stars\n",
      "#9 4.0 out of 5 stars\n",
      "#10 4.2 out of 5 stars\n",
      "#11 3.8 out of 5 stars\n",
      "#12 3.6 out of 5 stars\n",
      "#13 4.4 out of 5 stars\n",
      "#14 4.7 out of 5 stars\n",
      "#15 4.2 out of 5 stars\n",
      "#16 4 Stars & Up\n"
     ]
    },
    {
     "data": {
      "text/plain": [
       "16"
      ]
     },
     "execution_count": 24,
     "metadata": {},
     "output_type": "execute_result"
    }
   ],
   "source": [
    "mob_ratings_list = [l.text for l in mob_ratings]\n",
    "i = 1\n",
    "for mr in mob_ratings_list:\n",
    "    print(f\"#{i}\",mr)\n",
    "    i += 1\n",
    "len(mob_ratings_list)"
   ]
  },
  {
   "cell_type": "code",
   "execution_count": 27,
   "id": "c9f70c30-e856-48a3-931e-aa51777a3785",
   "metadata": {},
   "outputs": [],
   "source": [
    "mob_viewers = soup.findAll(\"span\", class_=\"a-size-base s-underline-text\")\n",
    "#print(mob_viewers)"
   ]
  },
  {
   "cell_type": "code",
   "execution_count": 28,
   "id": "1f057f2b-fffa-4a4d-bc02-85f997c7e642",
   "metadata": {},
   "outputs": [
    {
     "name": "stdout",
     "output_type": "stream",
     "text": [
      "#1 83\n",
      "#2 295\n",
      "#3 47,214\n",
      "#4 12,964\n",
      "#5 106\n",
      "#6 639\n",
      "#7 2,100\n",
      "#8 486\n",
      "#9 3,114\n",
      "#10 134\n",
      "#11 532\n",
      "#12 6\n",
      "#13 11\n",
      "#14 8,785\n"
     ]
    },
    {
     "data": {
      "text/plain": [
       "14"
      ]
     },
     "execution_count": 28,
     "metadata": {},
     "output_type": "execute_result"
    }
   ],
   "source": [
    "mob_viewers_list = [l.text for l in mob_viewers]\n",
    "i = 1\n",
    "for mv in mob_viewers_list:\n",
    "    print(f\"#{i}\",mv)\n",
    "    i += 1\n",
    "len(mob_viewers_list)"
   ]
  },
  {
   "cell_type": "code",
   "execution_count": 15,
   "id": "6dc2e084-dc83-40d4-9334-2edd0117430f",
   "metadata": {},
   "outputs": [],
   "source": [
    "mob_original_Prices = soup.findAll(\"div\", class_=\"a-section aok-inline-block\")\n",
    "#print(mob_original_Prices)"
   ]
  },
  {
   "cell_type": "code",
   "execution_count": 16,
   "id": "cc7ee9ef-beae-479a-a33a-6d4ed5027101",
   "metadata": {},
   "outputs": [
    {
     "name": "stdout",
     "output_type": "stream",
     "text": [
      "#1 83\n",
      "#2 295\n",
      "#3 47,214\n",
      "#4 12,964\n",
      "#5 106\n",
      "#6 639\n",
      "#7 2,100\n",
      "#8 486\n",
      "#9 3,114\n",
      "#10 134\n",
      "#11 532\n",
      "#12 6\n",
      "#13 11\n",
      "#14 8,785\n"
     ]
    },
    {
     "data": {
      "text/plain": [
       "16"
      ]
     },
     "execution_count": 16,
     "metadata": {},
     "output_type": "execute_result"
    }
   ],
   "source": [
    "mob_original_Prices_list = [l.text for l in mob_original_Prices]\n",
    "i = 1\n",
    "for mo in mob_ratings_list:\n",
    "    print(f\"#{i}\",mo)\n",
    "    i += 1\n",
    "len(mob_original_Prices_list)"
   ]
  },
  {
   "cell_type": "code",
   "execution_count": 17,
   "id": "7123ff1d-b18b-4e57-80f5-8dcc88e23605",
   "metadata": {},
   "outputs": [],
   "source": [
    "#mob_perchase = soup.findAll(\"spann\" ,class_= \"a-truncate-full a-offscreen\")\n",
    "#print(mob_perchase)"
   ]
  },
  {
   "cell_type": "code",
   "execution_count": 29,
   "id": "ea0bf5b2-8422-4141-ac8b-cbd549b63bc0",
   "metadata": {},
   "outputs": [
    {
     "name": "stdout",
     "output_type": "stream",
     "text": [
      "{'mob_company_list': ['realme', 'OnePlus', 'POCO', 'OnePlus', 'OnePlus', 'Samsung', 'Samsung', 'Redmi', 'Redmi', 'iQOO', 'Motorola', 'Redmi', 'Motorola', 'Samsung', 'realme', 'OnePlus'], 'mob_descriptions_list': ['realme 12 5G (Woodland Green, 8GB RAM 128 GB Storage) | 108 MP 3X Zoom Portrait Camera | Trendy Watch Design | 45 W SUPERVOOC Charge | 5000 mAh Massive Battery | Dual Stereo Speakers | Dynamic Button  ', 'OnePlus Nord CE4 Lite 5G (Super Silver, 8GB RAM, 128GB Storage)  ', 'POCO X6 5G (Snowstorm White, 12 GB RAM 256 GB Storage)  ', 'OnePlus Nord CE 3 Lite 5G (Chromatic Gray, 8GB RAM, 256GB Storage)  ', 'OnePlus Nord CE 3 5G (Aqua Surge, 8GB RAM, 128GB Storage)  ', 'Samsung Galaxy A15 5G (Blue, 8GB, 128GB Storage) | 50 MP Main Camera | Android 14 with One UI 6.0 | 16GB Expandable RAM | MediaTek Dimensity 6100+ | 5000 mAh Battery  ', 'Samsung Galaxy M15 5G (Stone Grey,8GB RAM,128GB Storage)| 50MP Triple Cam| 6000mAh Battery| MediaTek Dimensity 6100+| 4 Gen. OS Upgrade & 5 Year Security Update| Super AMOLED Display| without Charger  ', 'Redmi 12 5G Jade Black 8GB RAM 256GB ROM  ', 'Redmi 13C 5G (Startrail Green,6GB RAM, 128GB Storage) | MediaTek Dimensity 6100+ 5G | 90Hz Display  ', 'iQOO Z9 5G (Graphene Blue, 8GB RAM, 128GB Storage) | Dimensity 7200 5G Processor | Sony IMX882 OIS Camera | 120Hz AMOLED with 1800 nits Local Peak Brightness | 44W Charger in The Box  ', 'Motorola G34 5G (Charcoal Black, 8GB RAM, 128GB Storage)  ', 'Redmi Note 13 5G (Arctic White, 8GB RAM, 256GB Storage) | 5G Ready | 120Hz Bezel-less AMOLED | 7.mm Slimmest Note Ever | 108MP Pro-grade Camera  ', 'Motorola G64 5G (Ice Lilac, 12GB RAM, 256GB Storage) | Expandable Upto 2TB | Upto 24GB RAM with RAM Boost | 50MP (OIS) + 8MP | 16MP Front Camera | MediaTek Dimensity 7025 Processor | 6000 mAh Battery  ', 'Samsung Galaxy F34 5G (Mistic Green, 8 GB RAM, 128 GB Storage) | 50 MP No Shake Camera | Auto Night Mode | 120 Hz AMOLED Display | 4K Videos | 6000 mAh Large Battery | Dolby Atmos | Gorilla Glass 5  ', 'realme narzo 60 5G (Mars Orange,8GB+128GB) 90Hz Super AMOLED Display | Ultra Premium Vegan Leather Design | with 33W SUPERVOOC charger  ', 'OnePlus Nord CE4 Lite 5G (Mega Blue, 8GB RAM, 128GB Storage)  '], 'mob_prices_list': ['16,139', '19,999', '19,999', '19,310', '18,999', '19,499', '15,999', '13,999', '11,999', '19,999', '12,390', '18,999', '17,300', '16,099', '17,999', '19,999'], 'mob_ratings_list': ['4.6 out of 5 stars.', '4.2 out of 5 stars', '4.0 out of 5 stars', '4.2 out of 5 stars', '4.2 out of 5 stars', '3.7 out of 5 stars', '3.6 out of 5 stars', '3.9 out of 5 stars', '4.0 out of 5 stars', '4.2 out of 5 stars', '3.8 out of 5 stars', '3.6 out of 5 stars', '4.4 out of 5 stars', '4.7 out of 5 stars', '4.2 out of 5 stars', '4 Stars & Up'], 'mob_original_Prices_list': ['M.R.P: ₹20,999₹20,999', 'M.R.P: ₹20,999₹20,999', 'M.R.P: ₹26,999₹26,999', 'M.R.P: ₹21,999₹21,999', 'M.R.P: ₹26,999₹26,999', 'M.R.P: ₹21,499₹21,499', 'M.R.P: ₹17,999₹17,999', 'M.R.P: ₹19,999₹19,999', 'M.R.P: ₹15,999₹15,999', 'M.R.P: ₹24,999₹24,999', 'M.R.P: ₹15,990₹15,990', 'M.R.P: ₹22,999₹22,999', 'M.R.P: ₹19,999₹19,999', 'M.R.P: ₹25,999₹25,999', 'M.R.P: ₹19,999₹19,999', 'M.R.P: ₹20,999₹20,999']}\n"
     ]
    }
   ],
   "source": [
    "mob = {\"mob_company_list\":mob_company_list,\n",
    "       \"mob_descriptions_list\":mob_descriptions_list,\n",
    "       \"mob_prices_list\":mob_prices_list,\n",
    "       \"mob_ratings_list\":mob_ratings_list,\n",
    "       #\"mob_viewers_list\":mob_viewers_list,\n",
    "       \"mob_original_Prices_list\":mob_original_Prices_list}\n",
    "print(mob) \n",
    "\n"
   ]
  },
  {
   "cell_type": "code",
   "execution_count": 31,
   "id": "cc43abe4-195e-4653-9796-a3879da36294",
   "metadata": {},
   "outputs": [
    {
     "name": "stdout",
     "output_type": "stream",
     "text": [
      "The length of mob_company_list is 16\n",
      "The length of mob_descriptions_list is 16\n",
      "The length of mob_prices_list is 16\n",
      "The length of mob_ratings_list is 16\n",
      "The length of mob_original_Prices_list is 16\n"
     ]
    }
   ],
   "source": [
    "mob = {\"mob_company_list\":mob_company_list,\n",
    "       \"mob_descriptions_list\":mob_descriptions_list,\n",
    "       \"mob_prices_list\":mob_prices_list,\n",
    "       \"mob_ratings_list\":mob_ratings_list,\n",
    "       #\"mob_viewers_list\":mob_viewers_list,\n",
    "       \"mob_original_Prices_list\":mob_original_Prices_list}\n",
    "for key, value in mob.items():\n",
    "    print(f\"The length of {key} is {len(value)}\")\n",
    "    "
   ]
  },
  {
   "cell_type": "code",
   "execution_count": 32,
   "id": "a35e6401-0edb-4850-a938-87aa4243d7aa",
   "metadata": {},
   "outputs": [
    {
     "data": {
      "text/html": [
       "<div>\n",
       "<style scoped>\n",
       "    .dataframe tbody tr th:only-of-type {\n",
       "        vertical-align: middle;\n",
       "    }\n",
       "\n",
       "    .dataframe tbody tr th {\n",
       "        vertical-align: top;\n",
       "    }\n",
       "\n",
       "    .dataframe thead th {\n",
       "        text-align: right;\n",
       "    }\n",
       "</style>\n",
       "<table border=\"1\" class=\"dataframe\">\n",
       "  <thead>\n",
       "    <tr style=\"text-align: right;\">\n",
       "      <th></th>\n",
       "      <th>mob_company_list</th>\n",
       "      <th>mob_descriptions_list</th>\n",
       "      <th>mob_prices_list</th>\n",
       "      <th>mob_ratings_list</th>\n",
       "      <th>mob_original_Prices_list</th>\n",
       "    </tr>\n",
       "  </thead>\n",
       "  <tbody>\n",
       "    <tr>\n",
       "      <th>0</th>\n",
       "      <td>realme</td>\n",
       "      <td>realme 12 5G (Woodland Green, 8GB RAM 128 GB S...</td>\n",
       "      <td>16,139</td>\n",
       "      <td>4.6 out of 5 stars.</td>\n",
       "      <td>M.R.P: ₹20,999₹20,999</td>\n",
       "    </tr>\n",
       "    <tr>\n",
       "      <th>1</th>\n",
       "      <td>OnePlus</td>\n",
       "      <td>OnePlus Nord CE4 Lite 5G (Super Silver, 8GB RA...</td>\n",
       "      <td>19,999</td>\n",
       "      <td>4.2 out of 5 stars</td>\n",
       "      <td>M.R.P: ₹20,999₹20,999</td>\n",
       "    </tr>\n",
       "    <tr>\n",
       "      <th>2</th>\n",
       "      <td>POCO</td>\n",
       "      <td>POCO X6 5G (Snowstorm White, 12 GB RAM 256 GB ...</td>\n",
       "      <td>19,999</td>\n",
       "      <td>4.0 out of 5 stars</td>\n",
       "      <td>M.R.P: ₹26,999₹26,999</td>\n",
       "    </tr>\n",
       "    <tr>\n",
       "      <th>3</th>\n",
       "      <td>OnePlus</td>\n",
       "      <td>OnePlus Nord CE 3 Lite 5G (Chromatic Gray, 8GB...</td>\n",
       "      <td>19,310</td>\n",
       "      <td>4.2 out of 5 stars</td>\n",
       "      <td>M.R.P: ₹21,999₹21,999</td>\n",
       "    </tr>\n",
       "    <tr>\n",
       "      <th>4</th>\n",
       "      <td>OnePlus</td>\n",
       "      <td>OnePlus Nord CE 3 5G (Aqua Surge, 8GB RAM, 128...</td>\n",
       "      <td>18,999</td>\n",
       "      <td>4.2 out of 5 stars</td>\n",
       "      <td>M.R.P: ₹26,999₹26,999</td>\n",
       "    </tr>\n",
       "    <tr>\n",
       "      <th>5</th>\n",
       "      <td>Samsung</td>\n",
       "      <td>Samsung Galaxy A15 5G (Blue, 8GB, 128GB Storag...</td>\n",
       "      <td>19,499</td>\n",
       "      <td>3.7 out of 5 stars</td>\n",
       "      <td>M.R.P: ₹21,499₹21,499</td>\n",
       "    </tr>\n",
       "    <tr>\n",
       "      <th>6</th>\n",
       "      <td>Samsung</td>\n",
       "      <td>Samsung Galaxy M15 5G (Stone Grey,8GB RAM,128G...</td>\n",
       "      <td>15,999</td>\n",
       "      <td>3.6 out of 5 stars</td>\n",
       "      <td>M.R.P: ₹17,999₹17,999</td>\n",
       "    </tr>\n",
       "    <tr>\n",
       "      <th>7</th>\n",
       "      <td>Redmi</td>\n",
       "      <td>Redmi 12 5G Jade Black 8GB RAM 256GB ROM</td>\n",
       "      <td>13,999</td>\n",
       "      <td>3.9 out of 5 stars</td>\n",
       "      <td>M.R.P: ₹19,999₹19,999</td>\n",
       "    </tr>\n",
       "    <tr>\n",
       "      <th>8</th>\n",
       "      <td>Redmi</td>\n",
       "      <td>Redmi 13C 5G (Startrail Green,6GB RAM, 128GB S...</td>\n",
       "      <td>11,999</td>\n",
       "      <td>4.0 out of 5 stars</td>\n",
       "      <td>M.R.P: ₹15,999₹15,999</td>\n",
       "    </tr>\n",
       "    <tr>\n",
       "      <th>9</th>\n",
       "      <td>iQOO</td>\n",
       "      <td>iQOO Z9 5G (Graphene Blue, 8GB RAM, 128GB Stor...</td>\n",
       "      <td>19,999</td>\n",
       "      <td>4.2 out of 5 stars</td>\n",
       "      <td>M.R.P: ₹24,999₹24,999</td>\n",
       "    </tr>\n",
       "    <tr>\n",
       "      <th>10</th>\n",
       "      <td>Motorola</td>\n",
       "      <td>Motorola G34 5G (Charcoal Black, 8GB RAM, 128G...</td>\n",
       "      <td>12,390</td>\n",
       "      <td>3.8 out of 5 stars</td>\n",
       "      <td>M.R.P: ₹15,990₹15,990</td>\n",
       "    </tr>\n",
       "    <tr>\n",
       "      <th>11</th>\n",
       "      <td>Redmi</td>\n",
       "      <td>Redmi Note 13 5G (Arctic White, 8GB RAM, 256GB...</td>\n",
       "      <td>18,999</td>\n",
       "      <td>3.6 out of 5 stars</td>\n",
       "      <td>M.R.P: ₹22,999₹22,999</td>\n",
       "    </tr>\n",
       "    <tr>\n",
       "      <th>12</th>\n",
       "      <td>Motorola</td>\n",
       "      <td>Motorola G64 5G (Ice Lilac, 12GB RAM, 256GB St...</td>\n",
       "      <td>17,300</td>\n",
       "      <td>4.4 out of 5 stars</td>\n",
       "      <td>M.R.P: ₹19,999₹19,999</td>\n",
       "    </tr>\n",
       "    <tr>\n",
       "      <th>13</th>\n",
       "      <td>Samsung</td>\n",
       "      <td>Samsung Galaxy F34 5G (Mistic Green, 8 GB RAM,...</td>\n",
       "      <td>16,099</td>\n",
       "      <td>4.7 out of 5 stars</td>\n",
       "      <td>M.R.P: ₹25,999₹25,999</td>\n",
       "    </tr>\n",
       "    <tr>\n",
       "      <th>14</th>\n",
       "      <td>realme</td>\n",
       "      <td>realme narzo 60 5G (Mars Orange,8GB+128GB) 90H...</td>\n",
       "      <td>17,999</td>\n",
       "      <td>4.2 out of 5 stars</td>\n",
       "      <td>M.R.P: ₹19,999₹19,999</td>\n",
       "    </tr>\n",
       "    <tr>\n",
       "      <th>15</th>\n",
       "      <td>OnePlus</td>\n",
       "      <td>OnePlus Nord CE4 Lite 5G (Mega Blue, 8GB RAM, ...</td>\n",
       "      <td>19,999</td>\n",
       "      <td>4 Stars &amp; Up</td>\n",
       "      <td>M.R.P: ₹20,999₹20,999</td>\n",
       "    </tr>\n",
       "  </tbody>\n",
       "</table>\n",
       "</div>"
      ],
      "text/plain": [
       "   mob_company_list                              mob_descriptions_list  \\\n",
       "0            realme  realme 12 5G (Woodland Green, 8GB RAM 128 GB S...   \n",
       "1           OnePlus  OnePlus Nord CE4 Lite 5G (Super Silver, 8GB RA...   \n",
       "2              POCO  POCO X6 5G (Snowstorm White, 12 GB RAM 256 GB ...   \n",
       "3           OnePlus  OnePlus Nord CE 3 Lite 5G (Chromatic Gray, 8GB...   \n",
       "4           OnePlus  OnePlus Nord CE 3 5G (Aqua Surge, 8GB RAM, 128...   \n",
       "5           Samsung  Samsung Galaxy A15 5G (Blue, 8GB, 128GB Storag...   \n",
       "6           Samsung  Samsung Galaxy M15 5G (Stone Grey,8GB RAM,128G...   \n",
       "7             Redmi         Redmi 12 5G Jade Black 8GB RAM 256GB ROM     \n",
       "8             Redmi  Redmi 13C 5G (Startrail Green,6GB RAM, 128GB S...   \n",
       "9              iQOO  iQOO Z9 5G (Graphene Blue, 8GB RAM, 128GB Stor...   \n",
       "10         Motorola  Motorola G34 5G (Charcoal Black, 8GB RAM, 128G...   \n",
       "11            Redmi  Redmi Note 13 5G (Arctic White, 8GB RAM, 256GB...   \n",
       "12         Motorola  Motorola G64 5G (Ice Lilac, 12GB RAM, 256GB St...   \n",
       "13          Samsung  Samsung Galaxy F34 5G (Mistic Green, 8 GB RAM,...   \n",
       "14           realme  realme narzo 60 5G (Mars Orange,8GB+128GB) 90H...   \n",
       "15          OnePlus  OnePlus Nord CE4 Lite 5G (Mega Blue, 8GB RAM, ...   \n",
       "\n",
       "   mob_prices_list     mob_ratings_list mob_original_Prices_list  \n",
       "0           16,139  4.6 out of 5 stars.    M.R.P: ₹20,999₹20,999  \n",
       "1           19,999   4.2 out of 5 stars    M.R.P: ₹20,999₹20,999  \n",
       "2           19,999   4.0 out of 5 stars    M.R.P: ₹26,999₹26,999  \n",
       "3           19,310   4.2 out of 5 stars    M.R.P: ₹21,999₹21,999  \n",
       "4           18,999   4.2 out of 5 stars    M.R.P: ₹26,999₹26,999  \n",
       "5           19,499   3.7 out of 5 stars    M.R.P: ₹21,499₹21,499  \n",
       "6           15,999   3.6 out of 5 stars    M.R.P: ₹17,999₹17,999  \n",
       "7           13,999   3.9 out of 5 stars    M.R.P: ₹19,999₹19,999  \n",
       "8           11,999   4.0 out of 5 stars    M.R.P: ₹15,999₹15,999  \n",
       "9           19,999   4.2 out of 5 stars    M.R.P: ₹24,999₹24,999  \n",
       "10          12,390   3.8 out of 5 stars    M.R.P: ₹15,990₹15,990  \n",
       "11          18,999   3.6 out of 5 stars    M.R.P: ₹22,999₹22,999  \n",
       "12          17,300   4.4 out of 5 stars    M.R.P: ₹19,999₹19,999  \n",
       "13          16,099   4.7 out of 5 stars    M.R.P: ₹25,999₹25,999  \n",
       "14          17,999   4.2 out of 5 stars    M.R.P: ₹19,999₹19,999  \n",
       "15          19,999         4 Stars & Up    M.R.P: ₹20,999₹20,999  "
      ]
     },
     "execution_count": 32,
     "metadata": {},
     "output_type": "execute_result"
    }
   ],
   "source": [
    "df = pd.DataFrame(mob)\n",
    "df"
   ]
  },
  {
   "cell_type": "markdown",
   "id": "112729ab-95ae-47d7-b256-be2237d071d1",
   "metadata": {},
   "source": [
    "#### 1.Display the total number of records in the dataset."
   ]
  },
  {
   "cell_type": "code",
   "execution_count": 44,
   "id": "7c5f5a23-e7a0-4372-b86f-2349c1662299",
   "metadata": {},
   "outputs": [
    {
     "data": {
      "text/plain": [
       "mob_company_list            16\n",
       "mob_descriptions_list       16\n",
       "mob_prices_list             16\n",
       "mob_ratings_list            16\n",
       "mob_original_Prices_list    16\n",
       "dtype: int64"
      ]
     },
     "execution_count": 44,
     "metadata": {},
     "output_type": "execute_result"
    }
   ],
   "source": [
    "df.count()"
   ]
  },
  {
   "cell_type": "markdown",
   "id": "26215db3-ec38-4a56-85bc-6529cfda9736",
   "metadata": {},
   "source": [
    "#### 2.Display the first 10 rows of the dataset."
   ]
  },
  {
   "cell_type": "code",
   "execution_count": 42,
   "id": "04681e8b-6419-435a-93d9-e7c5bdaed2f1",
   "metadata": {},
   "outputs": [
    {
     "data": {
      "text/html": [
       "<div>\n",
       "<style scoped>\n",
       "    .dataframe tbody tr th:only-of-type {\n",
       "        vertical-align: middle;\n",
       "    }\n",
       "\n",
       "    .dataframe tbody tr th {\n",
       "        vertical-align: top;\n",
       "    }\n",
       "\n",
       "    .dataframe thead th {\n",
       "        text-align: right;\n",
       "    }\n",
       "</style>\n",
       "<table border=\"1\" class=\"dataframe\">\n",
       "  <thead>\n",
       "    <tr style=\"text-align: right;\">\n",
       "      <th></th>\n",
       "      <th>mob_company_list</th>\n",
       "      <th>mob_descriptions_list</th>\n",
       "      <th>mob_prices_list</th>\n",
       "      <th>mob_ratings_list</th>\n",
       "      <th>mob_original_Prices_list</th>\n",
       "    </tr>\n",
       "  </thead>\n",
       "  <tbody>\n",
       "    <tr>\n",
       "      <th>0</th>\n",
       "      <td>realme</td>\n",
       "      <td>realme 12 5G (Woodland Green, 8GB RAM 128 GB S...</td>\n",
       "      <td>16,139</td>\n",
       "      <td>4.6 out of 5 stars.</td>\n",
       "      <td>M.R.P: ₹20,999₹20,999</td>\n",
       "    </tr>\n",
       "    <tr>\n",
       "      <th>1</th>\n",
       "      <td>OnePlus</td>\n",
       "      <td>OnePlus Nord CE4 Lite 5G (Super Silver, 8GB RA...</td>\n",
       "      <td>19,999</td>\n",
       "      <td>4.2 out of 5 stars</td>\n",
       "      <td>M.R.P: ₹20,999₹20,999</td>\n",
       "    </tr>\n",
       "    <tr>\n",
       "      <th>2</th>\n",
       "      <td>POCO</td>\n",
       "      <td>POCO X6 5G (Snowstorm White, 12 GB RAM 256 GB ...</td>\n",
       "      <td>19,999</td>\n",
       "      <td>4.0 out of 5 stars</td>\n",
       "      <td>M.R.P: ₹26,999₹26,999</td>\n",
       "    </tr>\n",
       "    <tr>\n",
       "      <th>3</th>\n",
       "      <td>OnePlus</td>\n",
       "      <td>OnePlus Nord CE 3 Lite 5G (Chromatic Gray, 8GB...</td>\n",
       "      <td>19,310</td>\n",
       "      <td>4.2 out of 5 stars</td>\n",
       "      <td>M.R.P: ₹21,999₹21,999</td>\n",
       "    </tr>\n",
       "    <tr>\n",
       "      <th>4</th>\n",
       "      <td>OnePlus</td>\n",
       "      <td>OnePlus Nord CE 3 5G (Aqua Surge, 8GB RAM, 128...</td>\n",
       "      <td>18,999</td>\n",
       "      <td>4.2 out of 5 stars</td>\n",
       "      <td>M.R.P: ₹26,999₹26,999</td>\n",
       "    </tr>\n",
       "    <tr>\n",
       "      <th>5</th>\n",
       "      <td>Samsung</td>\n",
       "      <td>Samsung Galaxy A15 5G (Blue, 8GB, 128GB Storag...</td>\n",
       "      <td>19,499</td>\n",
       "      <td>3.7 out of 5 stars</td>\n",
       "      <td>M.R.P: ₹21,499₹21,499</td>\n",
       "    </tr>\n",
       "    <tr>\n",
       "      <th>6</th>\n",
       "      <td>Samsung</td>\n",
       "      <td>Samsung Galaxy M15 5G (Stone Grey,8GB RAM,128G...</td>\n",
       "      <td>15,999</td>\n",
       "      <td>3.6 out of 5 stars</td>\n",
       "      <td>M.R.P: ₹17,999₹17,999</td>\n",
       "    </tr>\n",
       "    <tr>\n",
       "      <th>7</th>\n",
       "      <td>Redmi</td>\n",
       "      <td>Redmi 12 5G Jade Black 8GB RAM 256GB ROM</td>\n",
       "      <td>13,999</td>\n",
       "      <td>3.9 out of 5 stars</td>\n",
       "      <td>M.R.P: ₹19,999₹19,999</td>\n",
       "    </tr>\n",
       "    <tr>\n",
       "      <th>8</th>\n",
       "      <td>Redmi</td>\n",
       "      <td>Redmi 13C 5G (Startrail Green,6GB RAM, 128GB S...</td>\n",
       "      <td>11,999</td>\n",
       "      <td>4.0 out of 5 stars</td>\n",
       "      <td>M.R.P: ₹15,999₹15,999</td>\n",
       "    </tr>\n",
       "    <tr>\n",
       "      <th>9</th>\n",
       "      <td>iQOO</td>\n",
       "      <td>iQOO Z9 5G (Graphene Blue, 8GB RAM, 128GB Stor...</td>\n",
       "      <td>19,999</td>\n",
       "      <td>4.2 out of 5 stars</td>\n",
       "      <td>M.R.P: ₹24,999₹24,999</td>\n",
       "    </tr>\n",
       "  </tbody>\n",
       "</table>\n",
       "</div>"
      ],
      "text/plain": [
       "  mob_company_list                              mob_descriptions_list  \\\n",
       "0           realme  realme 12 5G (Woodland Green, 8GB RAM 128 GB S...   \n",
       "1          OnePlus  OnePlus Nord CE4 Lite 5G (Super Silver, 8GB RA...   \n",
       "2             POCO  POCO X6 5G (Snowstorm White, 12 GB RAM 256 GB ...   \n",
       "3          OnePlus  OnePlus Nord CE 3 Lite 5G (Chromatic Gray, 8GB...   \n",
       "4          OnePlus  OnePlus Nord CE 3 5G (Aqua Surge, 8GB RAM, 128...   \n",
       "5          Samsung  Samsung Galaxy A15 5G (Blue, 8GB, 128GB Storag...   \n",
       "6          Samsung  Samsung Galaxy M15 5G (Stone Grey,8GB RAM,128G...   \n",
       "7            Redmi         Redmi 12 5G Jade Black 8GB RAM 256GB ROM     \n",
       "8            Redmi  Redmi 13C 5G (Startrail Green,6GB RAM, 128GB S...   \n",
       "9             iQOO  iQOO Z9 5G (Graphene Blue, 8GB RAM, 128GB Stor...   \n",
       "\n",
       "  mob_prices_list     mob_ratings_list mob_original_Prices_list  \n",
       "0          16,139  4.6 out of 5 stars.    M.R.P: ₹20,999₹20,999  \n",
       "1          19,999   4.2 out of 5 stars    M.R.P: ₹20,999₹20,999  \n",
       "2          19,999   4.0 out of 5 stars    M.R.P: ₹26,999₹26,999  \n",
       "3          19,310   4.2 out of 5 stars    M.R.P: ₹21,999₹21,999  \n",
       "4          18,999   4.2 out of 5 stars    M.R.P: ₹26,999₹26,999  \n",
       "5          19,499   3.7 out of 5 stars    M.R.P: ₹21,499₹21,499  \n",
       "6          15,999   3.6 out of 5 stars    M.R.P: ₹17,999₹17,999  \n",
       "7          13,999   3.9 out of 5 stars    M.R.P: ₹19,999₹19,999  \n",
       "8          11,999   4.0 out of 5 stars    M.R.P: ₹15,999₹15,999  \n",
       "9          19,999   4.2 out of 5 stars    M.R.P: ₹24,999₹24,999  "
      ]
     },
     "execution_count": 42,
     "metadata": {},
     "output_type": "execute_result"
    }
   ],
   "source": [
    "df.head(10)"
   ]
  },
  {
   "cell_type": "markdown",
   "id": "cdccb679-5336-4213-bb43-bd3e7c89201b",
   "metadata": {},
   "source": [
    "#### 3.Display the last 5 rows of the dataset."
   ]
  },
  {
   "cell_type": "code",
   "execution_count": 43,
   "id": "58c0bc5a-d67c-4af4-9c49-88156df3384d",
   "metadata": {},
   "outputs": [
    {
     "data": {
      "text/html": [
       "<div>\n",
       "<style scoped>\n",
       "    .dataframe tbody tr th:only-of-type {\n",
       "        vertical-align: middle;\n",
       "    }\n",
       "\n",
       "    .dataframe tbody tr th {\n",
       "        vertical-align: top;\n",
       "    }\n",
       "\n",
       "    .dataframe thead th {\n",
       "        text-align: right;\n",
       "    }\n",
       "</style>\n",
       "<table border=\"1\" class=\"dataframe\">\n",
       "  <thead>\n",
       "    <tr style=\"text-align: right;\">\n",
       "      <th></th>\n",
       "      <th>mob_company_list</th>\n",
       "      <th>mob_descriptions_list</th>\n",
       "      <th>mob_prices_list</th>\n",
       "      <th>mob_ratings_list</th>\n",
       "      <th>mob_original_Prices_list</th>\n",
       "    </tr>\n",
       "  </thead>\n",
       "  <tbody>\n",
       "    <tr>\n",
       "      <th>11</th>\n",
       "      <td>Redmi</td>\n",
       "      <td>Redmi Note 13 5G (Arctic White, 8GB RAM, 256GB...</td>\n",
       "      <td>18,999</td>\n",
       "      <td>3.6 out of 5 stars</td>\n",
       "      <td>M.R.P: ₹22,999₹22,999</td>\n",
       "    </tr>\n",
       "    <tr>\n",
       "      <th>12</th>\n",
       "      <td>Motorola</td>\n",
       "      <td>Motorola G64 5G (Ice Lilac, 12GB RAM, 256GB St...</td>\n",
       "      <td>17,300</td>\n",
       "      <td>4.4 out of 5 stars</td>\n",
       "      <td>M.R.P: ₹19,999₹19,999</td>\n",
       "    </tr>\n",
       "    <tr>\n",
       "      <th>13</th>\n",
       "      <td>Samsung</td>\n",
       "      <td>Samsung Galaxy F34 5G (Mistic Green, 8 GB RAM,...</td>\n",
       "      <td>16,099</td>\n",
       "      <td>4.7 out of 5 stars</td>\n",
       "      <td>M.R.P: ₹25,999₹25,999</td>\n",
       "    </tr>\n",
       "    <tr>\n",
       "      <th>14</th>\n",
       "      <td>realme</td>\n",
       "      <td>realme narzo 60 5G (Mars Orange,8GB+128GB) 90H...</td>\n",
       "      <td>17,999</td>\n",
       "      <td>4.2 out of 5 stars</td>\n",
       "      <td>M.R.P: ₹19,999₹19,999</td>\n",
       "    </tr>\n",
       "    <tr>\n",
       "      <th>15</th>\n",
       "      <td>OnePlus</td>\n",
       "      <td>OnePlus Nord CE4 Lite 5G (Mega Blue, 8GB RAM, ...</td>\n",
       "      <td>19,999</td>\n",
       "      <td>4 Stars &amp; Up</td>\n",
       "      <td>M.R.P: ₹20,999₹20,999</td>\n",
       "    </tr>\n",
       "  </tbody>\n",
       "</table>\n",
       "</div>"
      ],
      "text/plain": [
       "   mob_company_list                              mob_descriptions_list  \\\n",
       "11            Redmi  Redmi Note 13 5G (Arctic White, 8GB RAM, 256GB...   \n",
       "12         Motorola  Motorola G64 5G (Ice Lilac, 12GB RAM, 256GB St...   \n",
       "13          Samsung  Samsung Galaxy F34 5G (Mistic Green, 8 GB RAM,...   \n",
       "14           realme  realme narzo 60 5G (Mars Orange,8GB+128GB) 90H...   \n",
       "15          OnePlus  OnePlus Nord CE4 Lite 5G (Mega Blue, 8GB RAM, ...   \n",
       "\n",
       "   mob_prices_list    mob_ratings_list mob_original_Prices_list  \n",
       "11          18,999  3.6 out of 5 stars    M.R.P: ₹22,999₹22,999  \n",
       "12          17,300  4.4 out of 5 stars    M.R.P: ₹19,999₹19,999  \n",
       "13          16,099  4.7 out of 5 stars    M.R.P: ₹25,999₹25,999  \n",
       "14          17,999  4.2 out of 5 stars    M.R.P: ₹19,999₹19,999  \n",
       "15          19,999        4 Stars & Up    M.R.P: ₹20,999₹20,999  "
      ]
     },
     "execution_count": 43,
     "metadata": {},
     "output_type": "execute_result"
    }
   ],
   "source": [
    "df.tail(5)"
   ]
  },
  {
   "cell_type": "markdown",
   "id": "b054327f-f148-44f5-bd6e-79f6a5e93889",
   "metadata": {},
   "source": [
    "#### 4.Display any random 5 rows of the dataset."
   ]
  },
  {
   "cell_type": "code",
   "execution_count": 46,
   "id": "f0160319-3830-44c0-b9c3-e43f89191777",
   "metadata": {},
   "outputs": [
    {
     "data": {
      "text/html": [
       "<div>\n",
       "<style scoped>\n",
       "    .dataframe tbody tr th:only-of-type {\n",
       "        vertical-align: middle;\n",
       "    }\n",
       "\n",
       "    .dataframe tbody tr th {\n",
       "        vertical-align: top;\n",
       "    }\n",
       "\n",
       "    .dataframe thead th {\n",
       "        text-align: right;\n",
       "    }\n",
       "</style>\n",
       "<table border=\"1\" class=\"dataframe\">\n",
       "  <thead>\n",
       "    <tr style=\"text-align: right;\">\n",
       "      <th></th>\n",
       "      <th>mob_company_list</th>\n",
       "      <th>mob_descriptions_list</th>\n",
       "      <th>mob_prices_list</th>\n",
       "      <th>mob_ratings_list</th>\n",
       "      <th>mob_original_Prices_list</th>\n",
       "    </tr>\n",
       "  </thead>\n",
       "  <tbody>\n",
       "    <tr>\n",
       "      <th>9</th>\n",
       "      <td>iQOO</td>\n",
       "      <td>iQOO Z9 5G (Graphene Blue, 8GB RAM, 128GB Stor...</td>\n",
       "      <td>19,999</td>\n",
       "      <td>4.2 out of 5 stars</td>\n",
       "      <td>M.R.P: ₹24,999₹24,999</td>\n",
       "    </tr>\n",
       "    <tr>\n",
       "      <th>6</th>\n",
       "      <td>Samsung</td>\n",
       "      <td>Samsung Galaxy M15 5G (Stone Grey,8GB RAM,128G...</td>\n",
       "      <td>15,999</td>\n",
       "      <td>3.6 out of 5 stars</td>\n",
       "      <td>M.R.P: ₹17,999₹17,999</td>\n",
       "    </tr>\n",
       "    <tr>\n",
       "      <th>4</th>\n",
       "      <td>OnePlus</td>\n",
       "      <td>OnePlus Nord CE 3 5G (Aqua Surge, 8GB RAM, 128...</td>\n",
       "      <td>18,999</td>\n",
       "      <td>4.2 out of 5 stars</td>\n",
       "      <td>M.R.P: ₹26,999₹26,999</td>\n",
       "    </tr>\n",
       "    <tr>\n",
       "      <th>13</th>\n",
       "      <td>Samsung</td>\n",
       "      <td>Samsung Galaxy F34 5G (Mistic Green, 8 GB RAM,...</td>\n",
       "      <td>16,099</td>\n",
       "      <td>4.7 out of 5 stars</td>\n",
       "      <td>M.R.P: ₹25,999₹25,999</td>\n",
       "    </tr>\n",
       "    <tr>\n",
       "      <th>10</th>\n",
       "      <td>Motorola</td>\n",
       "      <td>Motorola G34 5G (Charcoal Black, 8GB RAM, 128G...</td>\n",
       "      <td>12,390</td>\n",
       "      <td>3.8 out of 5 stars</td>\n",
       "      <td>M.R.P: ₹15,990₹15,990</td>\n",
       "    </tr>\n",
       "  </tbody>\n",
       "</table>\n",
       "</div>"
      ],
      "text/plain": [
       "   mob_company_list                              mob_descriptions_list  \\\n",
       "9              iQOO  iQOO Z9 5G (Graphene Blue, 8GB RAM, 128GB Stor...   \n",
       "6           Samsung  Samsung Galaxy M15 5G (Stone Grey,8GB RAM,128G...   \n",
       "4           OnePlus  OnePlus Nord CE 3 5G (Aqua Surge, 8GB RAM, 128...   \n",
       "13          Samsung  Samsung Galaxy F34 5G (Mistic Green, 8 GB RAM,...   \n",
       "10         Motorola  Motorola G34 5G (Charcoal Black, 8GB RAM, 128G...   \n",
       "\n",
       "   mob_prices_list    mob_ratings_list mob_original_Prices_list  \n",
       "9           19,999  4.2 out of 5 stars    M.R.P: ₹24,999₹24,999  \n",
       "6           15,999  3.6 out of 5 stars    M.R.P: ₹17,999₹17,999  \n",
       "4           18,999  4.2 out of 5 stars    M.R.P: ₹26,999₹26,999  \n",
       "13          16,099  4.7 out of 5 stars    M.R.P: ₹25,999₹25,999  \n",
       "10          12,390  3.8 out of 5 stars    M.R.P: ₹15,990₹15,990  "
      ]
     },
     "execution_count": 46,
     "metadata": {},
     "output_type": "execute_result"
    }
   ],
   "source": [
    "df.sample(5)"
   ]
  },
  {
   "cell_type": "markdown",
   "id": "a6a5543e-615c-485b-9d5d-71da34a20b58",
   "metadata": {},
   "source": [
    "#### 5.Check for any missing values in the dataset."
   ]
  },
  {
   "cell_type": "code",
   "execution_count": 47,
   "id": "0bd7cb3c-118a-4068-bdaf-94563afecb72",
   "metadata": {},
   "outputs": [
    {
     "data": {
      "text/plain": [
       "mob_company_list            0\n",
       "mob_descriptions_list       0\n",
       "mob_prices_list             0\n",
       "mob_ratings_list            0\n",
       "mob_original_Prices_list    0\n",
       "dtype: int64"
      ]
     },
     "execution_count": 47,
     "metadata": {},
     "output_type": "execute_result"
    }
   ],
   "source": [
    "df.isnull().sum()"
   ]
  },
  {
   "cell_type": "markdown",
   "id": "5b1a356e-bd66-4516-af45-82f3fb7f77dd",
   "metadata": {},
   "source": [
    "#### 6.Display the count of records in each column of the dataset."
   ]
  },
  {
   "cell_type": "code",
   "execution_count": 48,
   "id": "e435c312-27b3-4b19-af17-587a30c2ed9f",
   "metadata": {},
   "outputs": [
    {
     "data": {
      "text/plain": [
       "mob_company_list            16\n",
       "mob_descriptions_list       16\n",
       "mob_prices_list             16\n",
       "mob_ratings_list            16\n",
       "mob_original_Prices_list    16\n",
       "dtype: int64"
      ]
     },
     "execution_count": 48,
     "metadata": {},
     "output_type": "execute_result"
    }
   ],
   "source": [
    "df.count()"
   ]
  },
  {
   "cell_type": "markdown",
   "id": "28186e65-2918-44f7-93ad-79a73d390214",
   "metadata": {},
   "source": [
    "#### 7.Display the minimum value of records in each column of the dataset."
   ]
  },
  {
   "cell_type": "code",
   "execution_count": 49,
   "id": "796d9f5b-0490-46b1-816d-f39d93bf5b72",
   "metadata": {},
   "outputs": [
    {
     "data": {
      "text/plain": [
       "mob_company_list                                                     Motorola\n",
       "mob_descriptions_list       Motorola G34 5G (Charcoal Black, 8GB RAM, 128G...\n",
       "mob_prices_list                                                        11,999\n",
       "mob_ratings_list                                           3.6 out of 5 stars\n",
       "mob_original_Prices_list                                M.R.P: ₹15,990₹15,990\n",
       "dtype: object"
      ]
     },
     "execution_count": 49,
     "metadata": {},
     "output_type": "execute_result"
    }
   ],
   "source": [
    "df.min()"
   ]
  },
  {
   "cell_type": "markdown",
   "id": "734c53a5-47b1-41bd-adf7-2582a4f421f4",
   "metadata": {},
   "source": [
    "#### 8.Display the maximum value of records in each column of the dataset."
   ]
  },
  {
   "cell_type": "code",
   "execution_count": 50,
   "id": "ae02d243-fc59-4d86-8b99-8415cb38ef32",
   "metadata": {},
   "outputs": [
    {
     "data": {
      "text/plain": [
       "mob_company_list                                                       realme\n",
       "mob_descriptions_list       realme narzo 60 5G (Mars Orange,8GB+128GB) 90H...\n",
       "mob_prices_list                                                        19,999\n",
       "mob_ratings_list                                           4.7 out of 5 stars\n",
       "mob_original_Prices_list                                M.R.P: ₹26,999₹26,999\n",
       "dtype: object"
      ]
     },
     "execution_count": 50,
     "metadata": {},
     "output_type": "execute_result"
    }
   ],
   "source": [
    "df.max()"
   ]
  },
  {
   "cell_type": "markdown",
   "id": "8f5baa9a-f6d7-49fd-afbb-80d715d1309a",
   "metadata": {},
   "source": [
    "#### 9.Display the average value of records in each column."
   ]
  },
  {
   "cell_type": "code",
   "execution_count": 55,
   "id": "25b6bc37-74f1-4319-a78c-4cce6acf3a75",
   "metadata": {},
   "outputs": [
    {
     "data": {
      "text/html": [
       "<div>\n",
       "<style scoped>\n",
       "    .dataframe tbody tr th:only-of-type {\n",
       "        vertical-align: middle;\n",
       "    }\n",
       "\n",
       "    .dataframe tbody tr th {\n",
       "        vertical-align: top;\n",
       "    }\n",
       "\n",
       "    .dataframe thead th {\n",
       "        text-align: right;\n",
       "    }\n",
       "</style>\n",
       "<table border=\"1\" class=\"dataframe\">\n",
       "  <thead>\n",
       "    <tr style=\"text-align: right;\">\n",
       "      <th></th>\n",
       "      <th>mob_company_list</th>\n",
       "      <th>mob_descriptions_list</th>\n",
       "      <th>mob_prices_list</th>\n",
       "      <th>mob_ratings_list</th>\n",
       "      <th>mob_original_Prices_list</th>\n",
       "    </tr>\n",
       "  </thead>\n",
       "  <tbody>\n",
       "    <tr>\n",
       "      <th>0</th>\n",
       "      <td>realme</td>\n",
       "      <td>realme 12 5G (Woodland Green, 8GB RAM 128 GB S...</td>\n",
       "      <td>16,139</td>\n",
       "      <td>4.6 out of 5 stars.</td>\n",
       "      <td>M.R.P: ₹20,999₹20,999</td>\n",
       "    </tr>\n",
       "    <tr>\n",
       "      <th>1</th>\n",
       "      <td>OnePlus</td>\n",
       "      <td>OnePlus Nord CE4 Lite 5G (Super Silver, 8GB RA...</td>\n",
       "      <td>19,999</td>\n",
       "      <td>4.2 out of 5 stars</td>\n",
       "      <td>M.R.P: ₹20,999₹20,999</td>\n",
       "    </tr>\n",
       "    <tr>\n",
       "      <th>2</th>\n",
       "      <td>POCO</td>\n",
       "      <td>POCO X6 5G (Snowstorm White, 12 GB RAM 256 GB ...</td>\n",
       "      <td>19,999</td>\n",
       "      <td>4.0 out of 5 stars</td>\n",
       "      <td>M.R.P: ₹26,999₹26,999</td>\n",
       "    </tr>\n",
       "    <tr>\n",
       "      <th>3</th>\n",
       "      <td>OnePlus</td>\n",
       "      <td>OnePlus Nord CE 3 Lite 5G (Chromatic Gray, 8GB...</td>\n",
       "      <td>19,310</td>\n",
       "      <td>4.2 out of 5 stars</td>\n",
       "      <td>M.R.P: ₹21,999₹21,999</td>\n",
       "    </tr>\n",
       "    <tr>\n",
       "      <th>4</th>\n",
       "      <td>OnePlus</td>\n",
       "      <td>OnePlus Nord CE 3 5G (Aqua Surge, 8GB RAM, 128...</td>\n",
       "      <td>18,999</td>\n",
       "      <td>4.2 out of 5 stars</td>\n",
       "      <td>M.R.P: ₹26,999₹26,999</td>\n",
       "    </tr>\n",
       "    <tr>\n",
       "      <th>5</th>\n",
       "      <td>Samsung</td>\n",
       "      <td>Samsung Galaxy A15 5G (Blue, 8GB, 128GB Storag...</td>\n",
       "      <td>19,499</td>\n",
       "      <td>3.7 out of 5 stars</td>\n",
       "      <td>M.R.P: ₹21,499₹21,499</td>\n",
       "    </tr>\n",
       "    <tr>\n",
       "      <th>6</th>\n",
       "      <td>Samsung</td>\n",
       "      <td>Samsung Galaxy M15 5G (Stone Grey,8GB RAM,128G...</td>\n",
       "      <td>15,999</td>\n",
       "      <td>3.6 out of 5 stars</td>\n",
       "      <td>M.R.P: ₹17,999₹17,999</td>\n",
       "    </tr>\n",
       "    <tr>\n",
       "      <th>7</th>\n",
       "      <td>Redmi</td>\n",
       "      <td>Redmi 12 5G Jade Black 8GB RAM 256GB ROM</td>\n",
       "      <td>13,999</td>\n",
       "      <td>3.9 out of 5 stars</td>\n",
       "      <td>M.R.P: ₹19,999₹19,999</td>\n",
       "    </tr>\n",
       "    <tr>\n",
       "      <th>8</th>\n",
       "      <td>Redmi</td>\n",
       "      <td>Redmi 13C 5G (Startrail Green,6GB RAM, 128GB S...</td>\n",
       "      <td>11,999</td>\n",
       "      <td>4.0 out of 5 stars</td>\n",
       "      <td>M.R.P: ₹15,999₹15,999</td>\n",
       "    </tr>\n",
       "    <tr>\n",
       "      <th>9</th>\n",
       "      <td>iQOO</td>\n",
       "      <td>iQOO Z9 5G (Graphene Blue, 8GB RAM, 128GB Stor...</td>\n",
       "      <td>19,999</td>\n",
       "      <td>4.2 out of 5 stars</td>\n",
       "      <td>M.R.P: ₹24,999₹24,999</td>\n",
       "    </tr>\n",
       "    <tr>\n",
       "      <th>10</th>\n",
       "      <td>Motorola</td>\n",
       "      <td>Motorola G34 5G (Charcoal Black, 8GB RAM, 128G...</td>\n",
       "      <td>12,390</td>\n",
       "      <td>3.8 out of 5 stars</td>\n",
       "      <td>M.R.P: ₹15,990₹15,990</td>\n",
       "    </tr>\n",
       "    <tr>\n",
       "      <th>11</th>\n",
       "      <td>Redmi</td>\n",
       "      <td>Redmi Note 13 5G (Arctic White, 8GB RAM, 256GB...</td>\n",
       "      <td>18,999</td>\n",
       "      <td>3.6 out of 5 stars</td>\n",
       "      <td>M.R.P: ₹22,999₹22,999</td>\n",
       "    </tr>\n",
       "    <tr>\n",
       "      <th>12</th>\n",
       "      <td>Motorola</td>\n",
       "      <td>Motorola G64 5G (Ice Lilac, 12GB RAM, 256GB St...</td>\n",
       "      <td>17,300</td>\n",
       "      <td>4.4 out of 5 stars</td>\n",
       "      <td>M.R.P: ₹19,999₹19,999</td>\n",
       "    </tr>\n",
       "    <tr>\n",
       "      <th>13</th>\n",
       "      <td>Samsung</td>\n",
       "      <td>Samsung Galaxy F34 5G (Mistic Green, 8 GB RAM,...</td>\n",
       "      <td>16,099</td>\n",
       "      <td>4.7 out of 5 stars</td>\n",
       "      <td>M.R.P: ₹25,999₹25,999</td>\n",
       "    </tr>\n",
       "    <tr>\n",
       "      <th>14</th>\n",
       "      <td>realme</td>\n",
       "      <td>realme narzo 60 5G (Mars Orange,8GB+128GB) 90H...</td>\n",
       "      <td>17,999</td>\n",
       "      <td>4.2 out of 5 stars</td>\n",
       "      <td>M.R.P: ₹19,999₹19,999</td>\n",
       "    </tr>\n",
       "    <tr>\n",
       "      <th>15</th>\n",
       "      <td>OnePlus</td>\n",
       "      <td>OnePlus Nord CE4 Lite 5G (Mega Blue, 8GB RAM, ...</td>\n",
       "      <td>19,999</td>\n",
       "      <td>4 Stars &amp; Up</td>\n",
       "      <td>M.R.P: ₹20,999₹20,999</td>\n",
       "    </tr>\n",
       "  </tbody>\n",
       "</table>\n",
       "</div>"
      ],
      "text/plain": [
       "   mob_company_list                              mob_descriptions_list  \\\n",
       "0            realme  realme 12 5G (Woodland Green, 8GB RAM 128 GB S...   \n",
       "1           OnePlus  OnePlus Nord CE4 Lite 5G (Super Silver, 8GB RA...   \n",
       "2              POCO  POCO X6 5G (Snowstorm White, 12 GB RAM 256 GB ...   \n",
       "3           OnePlus  OnePlus Nord CE 3 Lite 5G (Chromatic Gray, 8GB...   \n",
       "4           OnePlus  OnePlus Nord CE 3 5G (Aqua Surge, 8GB RAM, 128...   \n",
       "5           Samsung  Samsung Galaxy A15 5G (Blue, 8GB, 128GB Storag...   \n",
       "6           Samsung  Samsung Galaxy M15 5G (Stone Grey,8GB RAM,128G...   \n",
       "7             Redmi         Redmi 12 5G Jade Black 8GB RAM 256GB ROM     \n",
       "8             Redmi  Redmi 13C 5G (Startrail Green,6GB RAM, 128GB S...   \n",
       "9              iQOO  iQOO Z9 5G (Graphene Blue, 8GB RAM, 128GB Stor...   \n",
       "10         Motorola  Motorola G34 5G (Charcoal Black, 8GB RAM, 128G...   \n",
       "11            Redmi  Redmi Note 13 5G (Arctic White, 8GB RAM, 256GB...   \n",
       "12         Motorola  Motorola G64 5G (Ice Lilac, 12GB RAM, 256GB St...   \n",
       "13          Samsung  Samsung Galaxy F34 5G (Mistic Green, 8 GB RAM,...   \n",
       "14           realme  realme narzo 60 5G (Mars Orange,8GB+128GB) 90H...   \n",
       "15          OnePlus  OnePlus Nord CE4 Lite 5G (Mega Blue, 8GB RAM, ...   \n",
       "\n",
       "   mob_prices_list     mob_ratings_list mob_original_Prices_list  \n",
       "0           16,139  4.6 out of 5 stars.    M.R.P: ₹20,999₹20,999  \n",
       "1           19,999   4.2 out of 5 stars    M.R.P: ₹20,999₹20,999  \n",
       "2           19,999   4.0 out of 5 stars    M.R.P: ₹26,999₹26,999  \n",
       "3           19,310   4.2 out of 5 stars    M.R.P: ₹21,999₹21,999  \n",
       "4           18,999   4.2 out of 5 stars    M.R.P: ₹26,999₹26,999  \n",
       "5           19,499   3.7 out of 5 stars    M.R.P: ₹21,499₹21,499  \n",
       "6           15,999   3.6 out of 5 stars    M.R.P: ₹17,999₹17,999  \n",
       "7           13,999   3.9 out of 5 stars    M.R.P: ₹19,999₹19,999  \n",
       "8           11,999   4.0 out of 5 stars    M.R.P: ₹15,999₹15,999  \n",
       "9           19,999   4.2 out of 5 stars    M.R.P: ₹24,999₹24,999  \n",
       "10          12,390   3.8 out of 5 stars    M.R.P: ₹15,990₹15,990  \n",
       "11          18,999   3.6 out of 5 stars    M.R.P: ₹22,999₹22,999  \n",
       "12          17,300   4.4 out of 5 stars    M.R.P: ₹19,999₹19,999  \n",
       "13          16,099   4.7 out of 5 stars    M.R.P: ₹25,999₹25,999  \n",
       "14          17,999   4.2 out of 5 stars    M.R.P: ₹19,999₹19,999  \n",
       "15          19,999         4 Stars & Up    M.R.P: ₹20,999₹20,999  "
      ]
     },
     "execution_count": 55,
     "metadata": {},
     "output_type": "execute_result"
    }
   ],
   "source": [
    "#df.mean()\n",
    "df"
   ]
  },
  {
   "cell_type": "markdown",
   "id": "7fa9c6ef-04ea-49e3-9f04-ac6b2a3b8a0b",
   "metadata": {},
   "source": [
    "#### 10.Perform correlation analysis of the dataset."
   ]
  },
  {
   "cell_type": "code",
   "execution_count": 58,
   "id": "f0e4d838-48ec-4458-a468-abf42c97efbb",
   "metadata": {},
   "outputs": [
    {
     "data": {
      "text/html": [
       "<div>\n",
       "<style scoped>\n",
       "    .dataframe tbody tr th:only-of-type {\n",
       "        vertical-align: middle;\n",
       "    }\n",
       "\n",
       "    .dataframe tbody tr th {\n",
       "        vertical-align: top;\n",
       "    }\n",
       "\n",
       "    .dataframe thead th {\n",
       "        text-align: right;\n",
       "    }\n",
       "</style>\n",
       "<table border=\"1\" class=\"dataframe\">\n",
       "  <thead>\n",
       "    <tr style=\"text-align: right;\">\n",
       "      <th></th>\n",
       "      <th>mob_company_list</th>\n",
       "      <th>mob_descriptions_list</th>\n",
       "      <th>mob_prices_list</th>\n",
       "      <th>mob_ratings_list</th>\n",
       "      <th>mob_original_Prices_list</th>\n",
       "    </tr>\n",
       "  </thead>\n",
       "  <tbody>\n",
       "    <tr>\n",
       "      <th>0</th>\n",
       "      <td>realme</td>\n",
       "      <td>realme 12 5G (Woodland Green, 8GB RAM 128 GB S...</td>\n",
       "      <td>16,139</td>\n",
       "      <td>4.6 out of 5 stars.</td>\n",
       "      <td>M.R.P: ₹20,999₹20,999</td>\n",
       "    </tr>\n",
       "    <tr>\n",
       "      <th>1</th>\n",
       "      <td>OnePlus</td>\n",
       "      <td>OnePlus Nord CE4 Lite 5G (Super Silver, 8GB RA...</td>\n",
       "      <td>19,999</td>\n",
       "      <td>4.2 out of 5 stars</td>\n",
       "      <td>M.R.P: ₹20,999₹20,999</td>\n",
       "    </tr>\n",
       "    <tr>\n",
       "      <th>2</th>\n",
       "      <td>POCO</td>\n",
       "      <td>POCO X6 5G (Snowstorm White, 12 GB RAM 256 GB ...</td>\n",
       "      <td>19,999</td>\n",
       "      <td>4.0 out of 5 stars</td>\n",
       "      <td>M.R.P: ₹26,999₹26,999</td>\n",
       "    </tr>\n",
       "    <tr>\n",
       "      <th>3</th>\n",
       "      <td>OnePlus</td>\n",
       "      <td>OnePlus Nord CE 3 Lite 5G (Chromatic Gray, 8GB...</td>\n",
       "      <td>19,310</td>\n",
       "      <td>4.2 out of 5 stars</td>\n",
       "      <td>M.R.P: ₹21,999₹21,999</td>\n",
       "    </tr>\n",
       "    <tr>\n",
       "      <th>4</th>\n",
       "      <td>OnePlus</td>\n",
       "      <td>OnePlus Nord CE 3 5G (Aqua Surge, 8GB RAM, 128...</td>\n",
       "      <td>18,999</td>\n",
       "      <td>4.2 out of 5 stars</td>\n",
       "      <td>M.R.P: ₹26,999₹26,999</td>\n",
       "    </tr>\n",
       "    <tr>\n",
       "      <th>5</th>\n",
       "      <td>Samsung</td>\n",
       "      <td>Samsung Galaxy A15 5G (Blue, 8GB, 128GB Storag...</td>\n",
       "      <td>19,499</td>\n",
       "      <td>3.7 out of 5 stars</td>\n",
       "      <td>M.R.P: ₹21,499₹21,499</td>\n",
       "    </tr>\n",
       "    <tr>\n",
       "      <th>6</th>\n",
       "      <td>Samsung</td>\n",
       "      <td>Samsung Galaxy M15 5G (Stone Grey,8GB RAM,128G...</td>\n",
       "      <td>15,999</td>\n",
       "      <td>3.6 out of 5 stars</td>\n",
       "      <td>M.R.P: ₹17,999₹17,999</td>\n",
       "    </tr>\n",
       "    <tr>\n",
       "      <th>7</th>\n",
       "      <td>Redmi</td>\n",
       "      <td>Redmi 12 5G Jade Black 8GB RAM 256GB ROM</td>\n",
       "      <td>13,999</td>\n",
       "      <td>3.9 out of 5 stars</td>\n",
       "      <td>M.R.P: ₹19,999₹19,999</td>\n",
       "    </tr>\n",
       "    <tr>\n",
       "      <th>8</th>\n",
       "      <td>Redmi</td>\n",
       "      <td>Redmi 13C 5G (Startrail Green,6GB RAM, 128GB S...</td>\n",
       "      <td>11,999</td>\n",
       "      <td>4.0 out of 5 stars</td>\n",
       "      <td>M.R.P: ₹15,999₹15,999</td>\n",
       "    </tr>\n",
       "    <tr>\n",
       "      <th>9</th>\n",
       "      <td>iQOO</td>\n",
       "      <td>iQOO Z9 5G (Graphene Blue, 8GB RAM, 128GB Stor...</td>\n",
       "      <td>19,999</td>\n",
       "      <td>4.2 out of 5 stars</td>\n",
       "      <td>M.R.P: ₹24,999₹24,999</td>\n",
       "    </tr>\n",
       "    <tr>\n",
       "      <th>10</th>\n",
       "      <td>Motorola</td>\n",
       "      <td>Motorola G34 5G (Charcoal Black, 8GB RAM, 128G...</td>\n",
       "      <td>12,390</td>\n",
       "      <td>3.8 out of 5 stars</td>\n",
       "      <td>M.R.P: ₹15,990₹15,990</td>\n",
       "    </tr>\n",
       "    <tr>\n",
       "      <th>11</th>\n",
       "      <td>Redmi</td>\n",
       "      <td>Redmi Note 13 5G (Arctic White, 8GB RAM, 256GB...</td>\n",
       "      <td>18,999</td>\n",
       "      <td>3.6 out of 5 stars</td>\n",
       "      <td>M.R.P: ₹22,999₹22,999</td>\n",
       "    </tr>\n",
       "    <tr>\n",
       "      <th>12</th>\n",
       "      <td>Motorola</td>\n",
       "      <td>Motorola G64 5G (Ice Lilac, 12GB RAM, 256GB St...</td>\n",
       "      <td>17,300</td>\n",
       "      <td>4.4 out of 5 stars</td>\n",
       "      <td>M.R.P: ₹19,999₹19,999</td>\n",
       "    </tr>\n",
       "    <tr>\n",
       "      <th>13</th>\n",
       "      <td>Samsung</td>\n",
       "      <td>Samsung Galaxy F34 5G (Mistic Green, 8 GB RAM,...</td>\n",
       "      <td>16,099</td>\n",
       "      <td>4.7 out of 5 stars</td>\n",
       "      <td>M.R.P: ₹25,999₹25,999</td>\n",
       "    </tr>\n",
       "    <tr>\n",
       "      <th>14</th>\n",
       "      <td>realme</td>\n",
       "      <td>realme narzo 60 5G (Mars Orange,8GB+128GB) 90H...</td>\n",
       "      <td>17,999</td>\n",
       "      <td>4.2 out of 5 stars</td>\n",
       "      <td>M.R.P: ₹19,999₹19,999</td>\n",
       "    </tr>\n",
       "    <tr>\n",
       "      <th>15</th>\n",
       "      <td>OnePlus</td>\n",
       "      <td>OnePlus Nord CE4 Lite 5G (Mega Blue, 8GB RAM, ...</td>\n",
       "      <td>19,999</td>\n",
       "      <td>4 Stars &amp; Up</td>\n",
       "      <td>M.R.P: ₹20,999₹20,999</td>\n",
       "    </tr>\n",
       "  </tbody>\n",
       "</table>\n",
       "</div>"
      ],
      "text/plain": [
       "   mob_company_list                              mob_descriptions_list  \\\n",
       "0            realme  realme 12 5G (Woodland Green, 8GB RAM 128 GB S...   \n",
       "1           OnePlus  OnePlus Nord CE4 Lite 5G (Super Silver, 8GB RA...   \n",
       "2              POCO  POCO X6 5G (Snowstorm White, 12 GB RAM 256 GB ...   \n",
       "3           OnePlus  OnePlus Nord CE 3 Lite 5G (Chromatic Gray, 8GB...   \n",
       "4           OnePlus  OnePlus Nord CE 3 5G (Aqua Surge, 8GB RAM, 128...   \n",
       "5           Samsung  Samsung Galaxy A15 5G (Blue, 8GB, 128GB Storag...   \n",
       "6           Samsung  Samsung Galaxy M15 5G (Stone Grey,8GB RAM,128G...   \n",
       "7             Redmi         Redmi 12 5G Jade Black 8GB RAM 256GB ROM     \n",
       "8             Redmi  Redmi 13C 5G (Startrail Green,6GB RAM, 128GB S...   \n",
       "9              iQOO  iQOO Z9 5G (Graphene Blue, 8GB RAM, 128GB Stor...   \n",
       "10         Motorola  Motorola G34 5G (Charcoal Black, 8GB RAM, 128G...   \n",
       "11            Redmi  Redmi Note 13 5G (Arctic White, 8GB RAM, 256GB...   \n",
       "12         Motorola  Motorola G64 5G (Ice Lilac, 12GB RAM, 256GB St...   \n",
       "13          Samsung  Samsung Galaxy F34 5G (Mistic Green, 8 GB RAM,...   \n",
       "14           realme  realme narzo 60 5G (Mars Orange,8GB+128GB) 90H...   \n",
       "15          OnePlus  OnePlus Nord CE4 Lite 5G (Mega Blue, 8GB RAM, ...   \n",
       "\n",
       "   mob_prices_list     mob_ratings_list mob_original_Prices_list  \n",
       "0           16,139  4.6 out of 5 stars.    M.R.P: ₹20,999₹20,999  \n",
       "1           19,999   4.2 out of 5 stars    M.R.P: ₹20,999₹20,999  \n",
       "2           19,999   4.0 out of 5 stars    M.R.P: ₹26,999₹26,999  \n",
       "3           19,310   4.2 out of 5 stars    M.R.P: ₹21,999₹21,999  \n",
       "4           18,999   4.2 out of 5 stars    M.R.P: ₹26,999₹26,999  \n",
       "5           19,499   3.7 out of 5 stars    M.R.P: ₹21,499₹21,499  \n",
       "6           15,999   3.6 out of 5 stars    M.R.P: ₹17,999₹17,999  \n",
       "7           13,999   3.9 out of 5 stars    M.R.P: ₹19,999₹19,999  \n",
       "8           11,999   4.0 out of 5 stars    M.R.P: ₹15,999₹15,999  \n",
       "9           19,999   4.2 out of 5 stars    M.R.P: ₹24,999₹24,999  \n",
       "10          12,390   3.8 out of 5 stars    M.R.P: ₹15,990₹15,990  \n",
       "11          18,999   3.6 out of 5 stars    M.R.P: ₹22,999₹22,999  \n",
       "12          17,300   4.4 out of 5 stars    M.R.P: ₹19,999₹19,999  \n",
       "13          16,099   4.7 out of 5 stars    M.R.P: ₹25,999₹25,999  \n",
       "14          17,999   4.2 out of 5 stars    M.R.P: ₹19,999₹19,999  \n",
       "15          19,999         4 Stars & Up    M.R.P: ₹20,999₹20,999  "
      ]
     },
     "execution_count": 58,
     "metadata": {},
     "output_type": "execute_result"
    }
   ],
   "source": [
    "#df.corr()['mob_prise_list'].sort_values()\n",
    "df"
   ]
  },
  {
   "cell_type": "markdown",
   "id": "e85bf671-fbc9-4ea5-a56f-aef412dbd7e1",
   "metadata": {},
   "source": [
    "<img src=\"https://contenthub-static.grammarly.com/blog/wp-content/uploads/2019/02/bmd-4584.png\">"
   ]
  },
  {
   "cell_type": "code",
   "execution_count": null,
   "id": "680caec1-ad4a-43f5-bc18-972396bfc92b",
   "metadata": {},
   "outputs": [],
   "source": []
  }
 ],
 "metadata": {
  "kernelspec": {
   "display_name": "Python 3 (ipykernel)",
   "language": "python",
   "name": "python3"
  },
  "language_info": {
   "codemirror_mode": {
    "name": "ipython",
    "version": 3
   },
   "file_extension": ".py",
   "mimetype": "text/x-python",
   "name": "python",
   "nbconvert_exporter": "python",
   "pygments_lexer": "ipython3",
   "version": "3.11.7"
  }
 },
 "nbformat": 4,
 "nbformat_minor": 5
}
